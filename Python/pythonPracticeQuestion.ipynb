{
 "cells": [
  {
   "cell_type": "markdown",
   "metadata": {},
   "source": [
    "## 1. Write a Python program which accepts the radius of a circle from the user and compute the area."
   ]
  },
  {
   "cell_type": "code",
   "execution_count": 1,
   "metadata": {},
   "outputs": [
    {
     "name": "stdout",
     "output_type": "stream",
     "text": [
      "Enter the value of the radius4\n",
      "50.26548245743669\n"
     ]
    }
   ],
   "source": [
    "import math\n",
    "radius = int(input('Enter the value of the radius'))\n",
    "area = math.pi*radius**2\n",
    "print (area)"
   ]
  },
  {
   "cell_type": "markdown",
   "metadata": {},
   "source": [
    "## 2. Write a python code to check whether a given number of odd or even?"
   ]
  },
  {
   "cell_type": "code",
   "execution_count": 2,
   "metadata": {},
   "outputs": [
    {
     "name": "stdout",
     "output_type": "stream",
     "text": [
      "Enter a number5\n",
      "odd\n"
     ]
    }
   ],
   "source": [
    "n= int(input('Enter a number'))\n",
    "\n",
    "if (n%2==0):\n",
    "    print ('even')\n",
    "else:\n",
    "    print ('odd')"
   ]
  },
  {
   "cell_type": "markdown",
   "metadata": {},
   "source": [
    "## 3. Write a python code to check whether a given year is leap year or not"
   ]
  },
  {
   "cell_type": "code",
   "execution_count": 3,
   "metadata": {},
   "outputs": [
    {
     "name": "stdout",
     "output_type": "stream",
     "text": [
      "Enter the year2014\n",
      "Non leap year\n"
     ]
    }
   ],
   "source": [
    "year = int(input('Enter the year'))\n",
    "\n",
    "if (year%100==0):\n",
    "    if (year%4==0):\n",
    "        print ('leap year')\n",
    "    else:\n",
    "        print ('non leap year')\n",
    "elif(year%4==0):\n",
    "        print ('leap year')\n",
    "else:\n",
    "    print ('Non leap year')"
   ]
  },
  {
   "cell_type": "markdown",
   "metadata": {},
   "source": [
    "## 4. Write a python code in finding the roots of a quadratic equation?"
   ]
  },
  {
   "cell_type": "markdown",
   "metadata": {},
   "source": [
    "## 5. Write a python program to segregate student based on their CGPA. The details\n",
    "are as follows:\n",
    "- <=9 CGPA <=10 - outstanding\n",
    "- <=8 CGPA <9 - excellent\n",
    "- <=7 CGPA <8 - good\n",
    "- <=6 CGPA <7 - average\n",
    "- <=5 CGPA <6 - better\n",
    "- CGPA<5 - poor"
   ]
  },
  {
   "cell_type": "code",
   "execution_count": 4,
   "metadata": {},
   "outputs": [
    {
     "name": "stdout",
     "output_type": "stream",
     "text": [
      "Enter your cgpa4\n",
      "poor\n"
     ]
    }
   ],
   "source": [
    "cgpa= float(input(\"Enter your cgpa\"))\n",
    "\n",
    "if(cgpa==10):\n",
    "    print ('outstanding')\n",
    "if(cgpa>=8 and cgpa<9):\n",
    "    print ('excellent')\n",
    "if(cgpa>=7 and cgpa<8):\n",
    "    print ('good')\n",
    "if(cgpa>=6 and cgpa<7):\n",
    "    print ('average')\n",
    "if(cgpa>=5 and cgpa<6):\n",
    "    print ('better')\n",
    "if(cgpa<5):\n",
    "    print ('poor')"
   ]
  },
  {
   "cell_type": "markdown",
   "metadata": {},
   "source": [
    "## 6. Write a program that read a group ‘g’ of five numbers and another number ‘n’ and print a number in ‘g’ if it is a factor for a given number n?"
   ]
  },
  {
   "cell_type": "code",
   "execution_count": 6,
   "metadata": {},
   "outputs": [
    {
     "name": "stdout",
     "output_type": "stream",
     "text": [
      "5 8 9 10 12\n",
      "2\n",
      "\n",
      "8\n",
      "10\n",
      "12\n"
     ]
    }
   ],
   "source": [
    "str=input()\n",
    "g=str.split(' ')\n",
    "n=int(input())\n",
    "print()\n",
    "for i in g:\n",
    "    gInt = int(i)\n",
    "    if(gInt%n==0):\n",
    "        print (i)"
   ]
  },
  {
   "cell_type": "markdown",
   "metadata": {},
   "source": [
    "\n",
    "## 7. Write a program to find the factorial of a number n?"
   ]
  },
  {
   "cell_type": "code",
   "execution_count": 7,
   "metadata": {},
   "outputs": [
    {
     "name": "stdout",
     "output_type": "stream",
     "text": [
      "Please enter a number: 4\n",
      "Factorial :  24\n"
     ]
    }
   ],
   "source": [
    "def fac(n):\n",
    "    f=1\n",
    "    if (n<=0):\n",
    "        return 1\n",
    "    for i in range(1,n+1):\n",
    "        f *= (i)\n",
    "    return f\n",
    "\n",
    "n=int(input('Please enter a number: '))\n",
    "\n",
    "print('Factorial : ' ,fac(n))"
   ]
  },
  {
   "cell_type": "markdown",
   "metadata": {},
   "source": [
    "## 8. Write a menu driven program which get user choice to perform add/sub/mul/div with the obtained two input?"
   ]
  },
  {
   "cell_type": "markdown",
   "metadata": {},
   "source": [
    "\n",
    "## 9. Write a program to display few odd multiples of an odd number n ?"
   ]
  },
  {
   "cell_type": "markdown",
   "metadata": {},
   "source": [
    "## 10. The Head Librarian at a library wants you to make a program that calculates the fine for returning the book after the return date. You are given the actual and the expected return dates. Calculate the fine as follows:\n",
    "```\n",
    "a. If the book is returned on or before the expected return date, no fine will be charged, in other words fine is 0.\n",
    "b. If the book is returned in the same month as the expected return date, Fine = 15 Rupees × Number of late days\n",
    "c. If the book is not returned in the same month but in the same year s the expected return date, Fine = 500 Rupees × Number of late months\n",
    "d. If the book is not returned in the same year, the fine is fixed at 10000Rupees.\n",
    "```"
   ]
  },
  {
   "cell_type": "markdown",
   "metadata": {},
   "source": [
    "## 11. Write a Python program to calculate the sum of three given numbers, if the values are equal then return three times of their sum."
   ]
  },
  {
   "cell_type": "code",
   "execution_count": 23,
   "metadata": {},
   "outputs": [
    {
     "name": "stdout",
     "output_type": "stream",
     "text": [
      "Enter 1st no. : 3\n",
      "Enter 2nd no. : 3\n",
      "Enter 3rd no. : 3\n",
      "27\n"
     ]
    }
   ],
   "source": [
    "a = int(input('Enter 1st no. : '))\n",
    "b = int(input('Enter 2nd no. : '))\n",
    "c = int(input('Enter 3rd no. : '))\n",
    "sum=a+b+c\n",
    "if(a==b==c):\n",
    "    print (sum*3)\n",
    "else:\n",
    "    print (sum)"
   ]
  },
  {
   "cell_type": "markdown",
   "metadata": {},
   "source": [
    "\n",
    "## 12. Write a Python program to test whether a passed letter is a vowel or not.\n"
   ]
  },
  {
   "cell_type": "code",
   "execution_count": 28,
   "metadata": {},
   "outputs": [
    {
     "name": "stdout",
     "output_type": "stream",
     "text": [
      "U\n",
      "Vowel\n"
     ]
    }
   ],
   "source": [
    "n=input()\n",
    "vowelList = ['a','e','i','o','u']\n",
    "flag = 0\n",
    "for i in vowelList:\n",
    "    if(n==i or n==i.upper()):\n",
    "        flag= True\n",
    "if(flag):\n",
    "    print('Vowel')\n",
    "else:\n",
    "    print('Not Vowel')"
   ]
  },
  {
   "cell_type": "markdown",
   "metadata": {},
   "source": [
    "## 13. Write a Python program to compute the greatest common divisor (GCD) of two positive integers."
   ]
  },
  {
   "cell_type": "markdown",
   "metadata": {},
   "source": [
    "## 14. Write a Python program to get the least common multiple (LCM) of two positive integers."
   ]
  },
  {
   "cell_type": "markdown",
   "metadata": {},
   "source": [
    "## 15. Write a Python program to solve (x + y) * (x + y)."
   ]
  },
  {
   "cell_type": "code",
   "execution_count": 31,
   "metadata": {},
   "outputs": [
    {
     "name": "stdout",
     "output_type": "stream",
     "text": [
      "2\n",
      "3\n",
      "25\n"
     ]
    }
   ],
   "source": [
    "x = int(input())\n",
    "y = int(input())\n",
    "print((x+y)*(x+y))  # or print((x+y)**2) "
   ]
  },
  {
   "cell_type": "markdown",
   "metadata": {},
   "source": [
    "## 16. Write a Python program to compute the distance between the points (x1, y1) and (x2, y2). (Use Distance formula)."
   ]
  },
  {
   "cell_type": "code",
   "execution_count": 33,
   "metadata": {},
   "outputs": [
    {
     "name": "stdout",
     "output_type": "stream",
     "text": [
      "x1 : 4\n",
      "y1 : 5\n",
      "x2 : 6\n",
      "y2 : 2\n",
      "3.605551275463989\n"
     ]
    }
   ],
   "source": [
    "x1 = int(input('x1 : '))\n",
    "y1 = int(input('y1 : '))\n",
    "x2 = int(input('x2 : '))\n",
    "y2 = int(input('y2 : '))\n",
    "\n",
    "distance = ((x1-x2)**2 +(y1-y2)**2)**0.5\n",
    "print (distance)"
   ]
  },
  {
   "cell_type": "markdown",
   "metadata": {},
   "source": [
    "## 17. Write a Python program to parse a string to Float or Integer."
   ]
  },
  {
   "cell_type": "code",
   "execution_count": 2,
   "metadata": {},
   "outputs": [
    {
     "name": "stdout",
     "output_type": "stream",
     "text": [
      "3\n",
      "3.0\n"
     ]
    }
   ],
   "source": [
    "s=input()\n",
    "i=float(s)\n",
    "print(i)"
   ]
  },
  {
   "cell_type": "markdown",
   "metadata": {},
   "source": [
    "\n",
    "\n",
    "18. Write a Python program to convert the distance (in feet) to inches, yards, and\n",
    "miles.\n",
    "19. Write a Python program to convert all units of time into seconds.\n",
    "20. Write a Python program to convert seconds to day, hour, minutes and seconds\n",
    "21. Write a Python program to read height (kg) and weight (m) and calculate body\n",
    "mass index ( weight / height*height).\n",
    "22. Write a Python program to sort three integers without using conditional\n",
    "statements and loops.\n",
    "23. Write a Python program to calculate midpoints of a line. (Use midpoint\n",
    "formula).\n",
    "24. Write a Python program to swap two variables without using a third variable.\n",
    "25. Write a Python program to concatenate N strings.\n",
    "26. Write a Python program to count the number of occurrence of a specific\n",
    "character in a string.\n",
    "27. Write a Python program to get the ASCII value of a character.\n",
    "28. Write a Python program to change a given string to a new string where the first\n",
    "and last chars have been exchanged.\n",
    "29. Write a Python script that takes input from the user and displays that input\n",
    "back in upper and lower cases.\n",
    "30. Write a Python program to get a single string from two given strings, separated\n",
    "by a space and swap the first two characters of each string.\n",
    "Sample String : 'abc', 'xyz'\n",
    "Expected Result : 'xyc abz'\n",
    "\n"
   ]
  },
  {
   "cell_type": "markdown",
   "metadata": {},
   "source": [
    "## 32. Print the following pattern. (Read n- number of rows)\n",
    "```\n",
    "*\n",
    "* *\n",
    "* * *\n",
    "* * * *\n",
    "* * * * *\n",
    "```"
   ]
  },
  {
   "cell_type": "code",
   "execution_count": 8,
   "metadata": {},
   "outputs": [
    {
     "name": "stdout",
     "output_type": "stream",
     "text": [
      "Enter a number5\n",
      "* \n",
      "* * \n",
      "* * * \n",
      "* * * * \n",
      "* * * * * \n"
     ]
    }
   ],
   "source": [
    "n = int(input('Enter a number'))\n",
    "for i in range(1,n+1):\n",
    "    for j in range(1,i+1):\n",
    "        print('*', end=' ')\n",
    "    print()"
   ]
  },
  {
   "cell_type": "markdown",
   "metadata": {},
   "source": [
    "## 33. Print the following pattern (read n)\n",
    "```\n",
    "* * * * * *\n",
    "* * * * *\n",
    "* * * *\n",
    "* * *\n",
    "* *\n",
    "*\n",
    "```"
   ]
  },
  {
   "cell_type": "code",
   "execution_count": 9,
   "metadata": {},
   "outputs": [
    {
     "name": "stdout",
     "output_type": "stream",
     "text": [
      "Enter a number6\n",
      "* * * * * * \n",
      "* * * * * \n",
      "* * * * \n",
      "* * * \n",
      "* * \n",
      "* \n"
     ]
    }
   ],
   "source": [
    "n = int(input('Enter a number'))\n",
    "for i in reversed(range(1,n+1)):\n",
    "    for j in range(1,i+1):\n",
    "        print('*', end=' ')\n",
    "    print()"
   ]
  },
  {
   "cell_type": "markdown",
   "metadata": {},
   "source": [
    "## 34. Write a Python program to construct the following pattern, using a nested for\n",
    "loop. (n=5)\n",
    "```\n",
    "*\n",
    "* *\n",
    "* * *\n",
    "* * * *\n",
    "* * * * *\n",
    "* * * *\n",
    "* * *\n",
    "* *\n",
    "*\n",
    "```"
   ]
  },
  {
   "cell_type": "code",
   "execution_count": 10,
   "metadata": {},
   "outputs": [
    {
     "name": "stdout",
     "output_type": "stream",
     "text": [
      "Enter a number5\n",
      "* \n",
      "* * \n",
      "* * * \n",
      "* * * * \n",
      "* * * * * \n",
      "* * * * \n",
      "* * * \n",
      "* * \n",
      "* \n"
     ]
    }
   ],
   "source": [
    "n = int(input('Enter a number'))\n",
    "for i in range(1,n+1):\n",
    "    for j in range(1,i+1):\n",
    "        print('*', end=' ')\n",
    "    print()    \n",
    "for k in reversed(range(1,i)):\n",
    "    for l in reversed(range(1,k+1)):\n",
    "        print('*', end=' ')\n",
    "    print() \n"
   ]
  },
  {
   "cell_type": "markdown",
   "metadata": {},
   "source": [
    "\n",
    "## 35. Print a Full Pyramid Star Pattern (read n)\n",
    "```\n",
    "         *\n",
    "        * *\n",
    "       * * *\n",
    "      * * * *\n",
    "     * * * * *\n",
    "    * * * * * *\n",
    "```"
   ]
  },
  {
   "cell_type": "code",
   "execution_count": 15,
   "metadata": {},
   "outputs": [
    {
     "name": "stdout",
     "output_type": "stream",
     "text": [
      "6\n",
      "     * \n",
      "    * * \n",
      "   * * * \n",
      "  * * * * \n",
      " * * * * * \n",
      "* * * * * * \n"
     ]
    }
   ],
   "source": [
    "n= int(input())\n",
    "for i in range(1,n+1):\n",
    "    print(' '*(n-i), end='')\n",
    "    for j in range(1,i+1):\n",
    "        print ('*', end=' ')\n",
    "    print()"
   ]
  },
  {
   "cell_type": "code",
   "execution_count": null,
   "metadata": {},
   "outputs": [],
   "source": []
  }
 ],
 "metadata": {
  "kernelspec": {
   "display_name": "Python 3",
   "language": "python",
   "name": "python3"
  },
  "language_info": {
   "codemirror_mode": {
    "name": "ipython",
    "version": 3
   },
   "file_extension": ".py",
   "mimetype": "text/x-python",
   "name": "python",
   "nbconvert_exporter": "python",
   "pygments_lexer": "ipython3",
   "version": "3.7.4"
  }
 },
 "nbformat": 4,
 "nbformat_minor": 2
}
